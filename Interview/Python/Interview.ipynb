{
 "cells": [
  {
   "cell_type": "code",
   "execution_count": 12,
   "metadata": {
    "collapsed": false
   },
   "outputs": [
    {
     "data": {
      "text/plain": [
       "[{'firstname': 'Fahim'}, {'firstname': 'Sameer'}, {'firstname': 'Yogesh'}]"
      ]
     },
     "execution_count": 12,
     "metadata": {},
     "output_type": "execute_result"
    }
   ],
   "source": [
    "### Sorting according to first name\n",
    "\n",
    "details = [{\"firstname\":\"Fahim\"},{\"firstname\":\"Yogesh\"},{\"firstname\":\"Sameer\"}]\n",
    "sorted(details)"
   ]
  },
  {
   "cell_type": "code",
   "execution_count": null,
   "metadata": {
    "collapsed": true
   },
   "outputs": [],
   "source": []
  },
  {
   "cell_type": "code",
   "execution_count": 5,
   "metadata": {
    "collapsed": false
   },
   "outputs": [
    {
     "name": "stdout",
     "output_type": "stream",
     "text": [
      "dlroW olleH\n",
      "dlroW olleH\n"
     ]
    }
   ],
   "source": [
    "### Reverse String\n",
    "\n",
    "string = \"Hello World\"\n",
    "\n",
    "#First Way\n",
    "print string[::-1]\n",
    "\n",
    "\n",
    "#Second Way\n",
    "print ''.join(reversed(string))\n",
    "\n"
   ]
  },
  {
   "cell_type": "code",
   "execution_count": null,
   "metadata": {
    "collapsed": false
   },
   "outputs": [],
   "source": []
  },
  {
   "cell_type": "code",
   "execution_count": 32,
   "metadata": {
    "collapsed": false
   },
   "outputs": [
    {
     "data": {
      "text/plain": [
       "['world', 'hello', 6, 5, 4, 3, 2, 1]"
      ]
     },
     "execution_count": 32,
     "metadata": {},
     "output_type": "execute_result"
    }
   ],
   "source": [
    "### Reverse List\n",
    "a = [1,2,3,4,5,6,'hello','world']\n",
    "a.reverse()\n",
    "a"
   ]
  },
  {
   "cell_type": "code",
   "execution_count": null,
   "metadata": {
    "collapsed": true
   },
   "outputs": [],
   "source": []
  },
  {
   "cell_type": "code",
   "execution_count": 37,
   "metadata": {
    "collapsed": false
   },
   "outputs": [
    {
     "data": {
      "text/plain": [
       "'Khan is name My'"
      ]
     },
     "execution_count": 37,
     "metadata": {},
     "output_type": "execute_result"
    }
   ],
   "source": [
    "## Reverse word instead of string\n",
    "string = \"My name is Khan\"\n",
    "li = string.split()\n",
    "li.reverse()\n",
    "' '.join(li)"
   ]
  },
  {
   "cell_type": "code",
   "execution_count": null,
   "metadata": {
    "collapsed": false
   },
   "outputs": [],
   "source": []
  },
  {
   "cell_type": "code",
   "execution_count": 14,
   "metadata": {
    "collapsed": false
   },
   "outputs": [
    {
     "data": {
      "text/plain": [
       "[{'firstname': 'Sameer', 'lastname': 'Amber'},\n",
       " {'firstname': 'Fahim', 'lastname': 'Khan'},\n",
       " {'firstname': 'Yogesh', 'lastname': 'Sheth'}]"
      ]
     },
     "execution_count": 14,
     "metadata": {},
     "output_type": "execute_result"
    }
   ],
   "source": [
    "## Sort according to lastname\n",
    "\n",
    "details = [{\"firstname\":\"Fahim\",\"lastname\":\"Khan\"},{\"firstname\":\"Yogesh\",\"lastname\":\"Sheth\"},{\"firstname\":\"Sameer\",\"lastname\":\"Amber\"}]\n",
    "sorted(details,key=lambda last_name:last_name[\"lastname\"] )\n"
   ]
  },
  {
   "cell_type": "code",
   "execution_count": null,
   "metadata": {
    "collapsed": false
   },
   "outputs": [],
   "source": []
  },
  {
   "cell_type": "code",
   "execution_count": 15,
   "metadata": {
    "collapsed": false
   },
   "outputs": [
    {
     "data": {
      "text/plain": [
       "1"
      ]
     },
     "execution_count": 15,
     "metadata": {},
     "output_type": "execute_result"
    }
   ],
   "source": [
    "## Return 0 if it is 1 and 1 if it is 0\n",
    "\n",
    "f = lambda x : 1 if(x==0) else 1\n",
    "f(0)"
   ]
  },
  {
   "cell_type": "code",
   "execution_count": null,
   "metadata": {
    "collapsed": true
   },
   "outputs": [],
   "source": []
  },
  {
   "cell_type": "code",
   "execution_count": 17,
   "metadata": {
    "collapsed": false
   },
   "outputs": [
    {
     "data": {
      "text/plain": [
       "['Adi Amber', 'Fahim Khan', 'Rajesh Singh']"
      ]
     },
     "execution_count": 17,
     "metadata": {},
     "output_type": "execute_result"
    }
   ],
   "source": [
    "### Sort with the surname\n",
    "listname = [\"Rajesh Singh\",\"Fahim Khan\",\"Adi Amber\"]\n",
    "sorted(listname,key=lambda surname:surname.split()[-1])"
   ]
  },
  {
   "cell_type": "code",
   "execution_count": null,
   "metadata": {
    "collapsed": true
   },
   "outputs": [],
   "source": []
  },
  {
   "cell_type": "code",
   "execution_count": 18,
   "metadata": {
    "collapsed": false
   },
   "outputs": [
    {
     "data": {
      "text/plain": [
       "True"
      ]
     },
     "execution_count": 18,
     "metadata": {},
     "output_type": "execute_result"
    }
   ],
   "source": [
    "## TO determine object is callable\n",
    "\n",
    "def f():\n",
    "    print \"Hello World\"\n",
    "\n",
    "callable(f)"
   ]
  },
  {
   "cell_type": "code",
   "execution_count": 19,
   "metadata": {
    "collapsed": false
   },
   "outputs": [
    {
     "data": {
      "text/plain": [
       "True"
      ]
     },
     "execution_count": 19,
     "metadata": {},
     "output_type": "execute_result"
    }
   ],
   "source": [
    "#Lambda function is also callable \n",
    "even_func = lambda x : x % 2==0\n",
    "callable(even_func)"
   ]
  },
  {
   "cell_type": "code",
   "execution_count": 20,
   "metadata": {
    "collapsed": false
   },
   "outputs": [
    {
     "data": {
      "text/plain": [
       "False"
      ]
     },
     "execution_count": 20,
     "metadata": {},
     "output_type": "execute_result"
    }
   ],
   "source": [
    "\"Class objects are callable and methods are callable \"\n",
    "\n",
    "\"String is not callable\"\n",
    "\n",
    "callable(\"My Name is Khan\")"
   ]
  },
  {
   "cell_type": "code",
   "execution_count": null,
   "metadata": {
    "collapsed": true
   },
   "outputs": [],
   "source": []
  },
  {
   "cell_type": "code",
   "execution_count": 2,
   "metadata": {
    "collapsed": false
   },
   "outputs": [
    {
     "name": "stdout",
     "output_type": "stream",
     "text": [
      "Hello World\n",
      "Args :  ()\n",
      "Kwargs : {}\n"
     ]
    }
   ],
   "source": [
    "## Extended formal arguement\n",
    "\"\"\"*args is positional arguement as tuple\n",
    "**kwargs is key word arguement as in dictionary\n",
    "\"\"\"\n",
    "def extended(*args,**kwargs):\n",
    "    print \"Hello World\"\n",
    "    print \"Args : \",args\n",
    "    print \"Kwargs :\",kwargs\n",
    "extended()"
   ]
  },
  {
   "cell_type": "code",
   "execution_count": 3,
   "metadata": {
    "collapsed": false
   },
   "outputs": [
    {
     "name": "stdout",
     "output_type": "stream",
     "text": [
      "Volume : L : 5\n",
      "L : 25\n",
      "250\n",
      "Area :  L : 5\n",
      "10\n"
     ]
    }
   ],
   "source": [
    "## Using extended formal arguement calculate area and volume using same function\n",
    "def hypervolumen(*lengths):\n",
    "    i = iter(lengths)\n",
    "    v = next(i)\n",
    "    for length in i:\n",
    "        v *= length\n",
    "    return v\n",
    "\n",
    "print \"Volume :\",hypervolumen(2,5,25)\n",
    "print \"Area : \",hypervolumen(2,5)\n",
    "    "
   ]
  },
  {
   "cell_type": "code",
   "execution_count": 36,
   "metadata": {
    "collapsed": true
   },
   "outputs": [],
   "source": [
    "## Creating a tag in html using **kwargs\n",
    "def tag(name,**attributes):\n",
    "    result = '<'+name\n",
    "    for key,value in attributes.items():\n",
    "        result += ' {k}=\"{v}\"'.format(k=key,v=str(value))\n",
    "    result += '>'\n",
    "    return result"
   ]
  },
  {
   "cell_type": "code",
   "execution_count": 37,
   "metadata": {
    "collapsed": false
   },
   "outputs": [
    {
     "data": {
      "text/plain": [
       "'<img src=\"abc.jpg\" alt=\"Sunrise by Cloud\" border=\"1\">'"
      ]
     },
     "execution_count": 37,
     "metadata": {},
     "output_type": "execute_result"
    }
   ],
   "source": [
    "tag('img',src=\"abc.jpg\",alt=\"Sunrise by Cloud\",border=1)"
   ]
  },
  {
   "cell_type": "code",
   "execution_count": 1,
   "metadata": {
    "collapsed": true
   },
   "outputs": [],
   "source": [
    "## we can use * and ** to unpack arguement "
   ]
  },
  {
   "cell_type": "code",
   "execution_count": null,
   "metadata": {
    "collapsed": true
   },
   "outputs": [],
   "source": []
  },
  {
   "cell_type": "code",
   "execution_count": 4,
   "metadata": {
    "collapsed": true
   },
   "outputs": [],
   "source": []
  },
  {
   "cell_type": "code",
   "execution_count": 9,
   "metadata": {
    "collapsed": false
   },
   "outputs": [
    {
     "name": "stdout",
     "output_type": "stream",
     "text": [
      "Args =  ('ff',)\n",
      "KWargs =  {'base': 16}\n",
      "Result =  255\n"
     ]
    },
    {
     "data": {
      "text/plain": [
       "255"
      ]
     },
     "execution_count": 9,
     "metadata": {},
     "output_type": "execute_result"
    }
   ],
   "source": [
    "## Forwarding arguements\n",
    "## Here arguement is forwarded to function int\n",
    "\n",
    "def trace(f,*args,**kwargs):\n",
    "    print \"Args = \",args\n",
    "    print \"KWargs = \",kwargs\n",
    "    result = f(*args,**kwargs)\n",
    "    print \"Result = \",result\n",
    "    return result\n",
    "\n",
    "# int(\"ff\",base=16) # To check the output is correct\n",
    "\n",
    "trace(int,\"ff\",base=16)"
   ]
  },
  {
   "cell_type": "code",
   "execution_count": null,
   "metadata": {
    "collapsed": true
   },
   "outputs": [],
   "source": []
  },
  {
   "cell_type": "code",
   "execution_count": 10,
   "metadata": {
    "collapsed": false
   },
   "outputs": [
    {
     "name": "stdout",
     "output_type": "stream",
     "text": [
      "(1, 7)\n",
      "(2, 8)\n",
      "(3, 9)\n",
      "(4, 10)\n",
      "(5, 11)\n",
      "(6, 12)\n"
     ]
    }
   ],
   "source": [
    "## transposing table\n",
    "Sunday = [1,2,3,4,5,6]\n",
    "Monday = [7,8,9,10,11,12]\n",
    "\n",
    "for item in zip(Sunday,Monday):\n",
    "    print item"
   ]
  },
  {
   "cell_type": "code",
   "execution_count": 11,
   "metadata": {
    "collapsed": false
   },
   "outputs": [
    {
     "name": "stdout",
     "output_type": "stream",
     "text": [
      "(1, 7)\n",
      "(2, 8)\n",
      "(3, 9)\n",
      "(4, 10)\n",
      "(5, 11)\n",
      "(6, 12)\n"
     ]
    }
   ],
   "source": [
    "daily = [Sunday,Monday]\n",
    "for item in zip(*daily):\n",
    "    print item"
   ]
  },
  {
   "cell_type": "code",
   "execution_count": 14,
   "metadata": {
    "collapsed": false
   },
   "outputs": [
    {
     "data": {
      "text/plain": [
       "[(1, 7), (2, 8), (3, 9), (4, 10), (5, 11), (6, 12)]"
      ]
     },
     "execution_count": 14,
     "metadata": {},
     "output_type": "execute_result"
    }
   ],
   "source": [
    "transposed = list(zip(*daily))\n",
    "transposed"
   ]
  },
  {
   "cell_type": "code",
   "execution_count": null,
   "metadata": {
    "collapsed": true
   },
   "outputs": [],
   "source": []
  },
  {
   "cell_type": "code",
   "execution_count": 15,
   "metadata": {
    "collapsed": false
   },
   "outputs": [
    {
     "data": {
      "text/plain": [
       "['a', 'Local', 'From', 'Function', 'Hello']"
      ]
     },
     "execution_count": 15,
     "metadata": {},
     "output_type": "execute_result"
    }
   ],
   "source": [
    "# Local function\n",
    "def sort_by_last_letter(strings):\n",
    "    def last_letter(s):\n",
    "        return s[-1]\n",
    "    return sorted(strings,key=last_letter)\n",
    "\n",
    "sort_by_last_letter(['Hello','From','a','Local','Function'])\n",
    "    "
   ]
  },
  {
   "cell_type": "markdown",
   "metadata": {},
   "source": [
    "LEGB rule ----- Local,Enclosing,Global,Built-In"
   ]
  },
  {
   "cell_type": "code",
   "execution_count": null,
   "metadata": {
    "collapsed": true
   },
   "outputs": [],
   "source": []
  },
  {
   "cell_type": "code",
   "execution_count": 18,
   "metadata": {
    "collapsed": false
   },
   "outputs": [
    {
     "name": "stdout",
     "output_type": "stream",
     "text": [
      "Local Function\n"
     ]
    }
   ],
   "source": [
    "## Returning function from function \n",
    "\n",
    "def enclosing():\n",
    "    def local_function():\n",
    "        print \"Local Function\"\n",
    "    return local_function\n",
    "\n",
    "lf = enclosing()\n",
    "lf()"
   ]
  },
  {
   "cell_type": "code",
   "execution_count": null,
   "metadata": {
    "collapsed": true
   },
   "outputs": [],
   "source": []
  },
  {
   "cell_type": "code",
   "execution_count": 20,
   "metadata": {
    "collapsed": false
   },
   "outputs": [
    {
     "name": "stdout",
     "output_type": "stream",
     "text": [
      "Closed Over\n"
     ]
    }
   ],
   "source": [
    "## Closures\n",
    "## It maintains reference to objects from earlier scope\n",
    "\n",
    "def enclosing():\n",
    "    x = 'Closed Over'\n",
    "    def local_function():\n",
    "        print (x)\n",
    "    return local_function\n",
    "\n",
    "lf = enclosing()\n",
    "lf()"
   ]
  },
  {
   "cell_type": "code",
   "execution_count": 21,
   "metadata": {
    "collapsed": false
   },
   "outputs": [
    {
     "data": {
      "text/plain": [
       "(<cell at 0x1bb30f8: str object at 0x19d0cc0>,)"
      ]
     },
     "execution_count": 21,
     "metadata": {},
     "output_type": "execute_result"
    }
   ],
   "source": [
    "## We can use __closure__ to check for closure\n",
    "lf.__closure__"
   ]
  },
  {
   "cell_type": "code",
   "execution_count": null,
   "metadata": {
    "collapsed": true
   },
   "outputs": [],
   "source": []
  },
  {
   "cell_type": "code",
   "execution_count": 27,
   "metadata": {
    "collapsed": false
   },
   "outputs": [
    {
     "data": {
      "text/plain": [
       "(<cell at 0x1bb3328: int object at 0x9877c0>,)"
      ]
     },
     "execution_count": 27,
     "metadata": {},
     "output_type": "execute_result"
    }
   ],
   "source": [
    "##Function Factory\n",
    "## Function that return new,specialized function\n",
    "\n",
    "def raise_to(exp):\n",
    "    def raise_to_exp(x):\n",
    "        return pow(x,exp)\n",
    "    return raise_to_exp\n",
    "\n",
    "##Lets create closure\n",
    "square = raise_to(2)\n",
    "square.__closure__"
   ]
  },
  {
   "cell_type": "code",
   "execution_count": 28,
   "metadata": {
    "collapsed": false
   },
   "outputs": [
    {
     "data": {
      "text/plain": [
       "81"
      ]
     },
     "execution_count": 28,
     "metadata": {},
     "output_type": "execute_result"
    }
   ],
   "source": [
    "## Now use this closure to return specialized function\n",
    "square(9)"
   ]
  },
  {
   "cell_type": "code",
   "execution_count": 29,
   "metadata": {
    "collapsed": false
   },
   "outputs": [
    {
     "data": {
      "text/plain": [
       "8"
      ]
     },
     "execution_count": 29,
     "metadata": {},
     "output_type": "execute_result"
    }
   ],
   "source": [
    "cube = raise_to(3)\n",
    "cube(2)"
   ]
  },
  {
   "cell_type": "code",
   "execution_count": null,
   "metadata": {
    "collapsed": true
   },
   "outputs": [],
   "source": []
  },
  {
   "cell_type": "code",
   "execution_count": 31,
   "metadata": {
    "collapsed": true
   },
   "outputs": [],
   "source": [
    "# nonlocal introduce names from the enclosing namespace into local namespace"
   ]
  },
  {
   "cell_type": "code",
   "execution_count": null,
   "metadata": {
    "collapsed": true
   },
   "outputs": [],
   "source": []
  },
  {
   "cell_type": "code",
   "execution_count": 34,
   "metadata": {
    "collapsed": false
   },
   "outputs": [
    {
     "ename": "NameError",
     "evalue": "global name 'ascii' is not defined",
     "output_type": "error",
     "traceback": [
      "\u001b[1;31m---------------------------------------------------------------------------\u001b[0m",
      "\u001b[1;31mNameError\u001b[0m                                 Traceback (most recent call last)",
      "\u001b[1;32m<ipython-input-34-a18cf7286f93>\u001b[0m in \u001b[0;36m<module>\u001b[1;34m()\u001b[0m\n\u001b[0;32m     12\u001b[0m     \u001b[1;32mreturn\u001b[0m \u001b[1;34m\"Trom$@\"\u001b[0m\u001b[1;33m\u001b[0m\u001b[0m\n\u001b[0;32m     13\u001b[0m \u001b[1;33m\u001b[0m\u001b[0m\n\u001b[1;32m---> 14\u001b[1;33m \u001b[0mnorthern_city\u001b[0m\u001b[1;33m(\u001b[0m\u001b[1;33m)\u001b[0m\u001b[1;33m\u001b[0m\u001b[0m\n\u001b[0m",
      "\u001b[1;32m<ipython-input-34-a18cf7286f93>\u001b[0m in \u001b[0;36mwrap\u001b[1;34m(*args, **kwargs)\u001b[0m\n\u001b[0;32m      5\u001b[0m     \u001b[1;32mdef\u001b[0m \u001b[0mwrap\u001b[0m\u001b[1;33m(\u001b[0m\u001b[1;33m*\u001b[0m\u001b[0margs\u001b[0m\u001b[1;33m,\u001b[0m\u001b[1;33m**\u001b[0m\u001b[0mkwargs\u001b[0m\u001b[1;33m)\u001b[0m\u001b[1;33m:\u001b[0m\u001b[1;33m\u001b[0m\u001b[0m\n\u001b[0;32m      6\u001b[0m         \u001b[0mx\u001b[0m \u001b[1;33m=\u001b[0m \u001b[0mf\u001b[0m\u001b[1;33m(\u001b[0m\u001b[1;33m*\u001b[0m\u001b[0margs\u001b[0m\u001b[1;33m,\u001b[0m\u001b[1;33m**\u001b[0m\u001b[0mkwargs\u001b[0m\u001b[1;33m)\u001b[0m\u001b[1;33m\u001b[0m\u001b[0m\n\u001b[1;32m----> 7\u001b[1;33m         \u001b[1;32mreturn\u001b[0m \u001b[0mascii\u001b[0m\u001b[1;33m(\u001b[0m\u001b[0mx\u001b[0m\u001b[1;33m)\u001b[0m  \u001b[1;31m# Work in python3\u001b[0m\u001b[1;33m\u001b[0m\u001b[0m\n\u001b[0m\u001b[0;32m      8\u001b[0m     \u001b[1;32mreturn\u001b[0m \u001b[0mwrap\u001b[0m\u001b[1;33m\u001b[0m\u001b[0m\n\u001b[0;32m      9\u001b[0m \u001b[1;33m\u001b[0m\u001b[0m\n",
      "\u001b[1;31mNameError\u001b[0m: global name 'ascii' is not defined"
     ]
    }
   ],
   "source": [
    "# Decorators\n",
    "# Make more scalable and maintainable\n",
    "\n",
    "def escape_unicode(f):\n",
    "    def wrap(*args,**kwargs):\n",
    "        x = f(*args,**kwargs)\n",
    "        return ascii(x)  # Work in python3\n",
    "    return wrap\n",
    "\n",
    "@escape_unicode\n",
    "def northern_city():\n",
    "    return \"Trom$@\"\n",
    "\n",
    "northern_city()\n"
   ]
  },
  {
   "cell_type": "code",
   "execution_count": 35,
   "metadata": {
    "collapsed": true
   },
   "outputs": [],
   "source": [
    "## Apart from functions other objects can also be decorators\n",
    "#Class as decorator\n",
    "\n",
    "class CallCount:\n",
    "    def __init__(self,f):\n",
    "        self.f = f\n",
    "        self.count = 0\n",
    "        \n",
    "    def __call__(self,*args,**kwargs):\n",
    "        self.count += 1\n",
    "        return self.f(*args,**kwargs)\n",
    "    \n",
    "@CallCount\n",
    "def hello(name):\n",
    "    print('Hello,{}'.format(name))\n",
    "    "
   ]
  },
  {
   "cell_type": "code",
   "execution_count": 36,
   "metadata": {
    "collapsed": false
   },
   "outputs": [
    {
     "name": "stdout",
     "output_type": "stream",
     "text": [
      "Hello,Fahim\n"
     ]
    }
   ],
   "source": [
    "hello('Fahim')"
   ]
  },
  {
   "cell_type": "code",
   "execution_count": 37,
   "metadata": {
    "collapsed": false
   },
   "outputs": [
    {
     "name": "stdout",
     "output_type": "stream",
     "text": [
      "Hello,Phantom\n"
     ]
    }
   ],
   "source": [
    "hello('Phantom')"
   ]
  },
  {
   "cell_type": "code",
   "execution_count": 38,
   "metadata": {
    "collapsed": false
   },
   "outputs": [
    {
     "data": {
      "text/plain": [
       "2"
      ]
     },
     "execution_count": 38,
     "metadata": {},
     "output_type": "execute_result"
    }
   ],
   "source": [
    "hello.count"
   ]
  },
  {
   "cell_type": "code",
   "execution_count": null,
   "metadata": {
    "collapsed": true
   },
   "outputs": [],
   "source": []
  },
  {
   "cell_type": "code",
   "execution_count": 43,
   "metadata": {
    "collapsed": false
   },
   "outputs": [
    {
     "name": "stdout",
     "output_type": "stream",
     "text": [
      "Calling <function rotate_list at 0x1b4f6e0>\n",
      "Calling <function rotate_list at 0x1b4f6e0>\n"
     ]
    },
    {
     "data": {
      "text/plain": [
       "[2, 3, 4, 1]"
      ]
     },
     "execution_count": 43,
     "metadata": {},
     "output_type": "execute_result"
    }
   ],
   "source": [
    "## Instance as decorators\n",
    "class Trace:\n",
    "    def __init__(self):\n",
    "        self.enabled = True\n",
    "        \n",
    "    def __call__(self,f):\n",
    "        def wrap(*args,**kwargs):\n",
    "            if self.enabled:\n",
    "                print('Calling {}'.format(f))\n",
    "            return f(*args,**kwargs)\n",
    "        return wrap\n",
    "    \n",
    "tracer = Trace()\n",
    "\n",
    "@tracer\n",
    "def rotate_list(l):\n",
    "    return l[1:] + [l[0]]\n",
    "\n",
    "l = [1,2,3,4]\n",
    "rotate_list(l)\n",
    "rotate_list(l)\n",
    "    "
   ]
  },
  {
   "cell_type": "code",
   "execution_count": null,
   "metadata": {
    "collapsed": false
   },
   "outputs": [],
   "source": []
  },
  {
   "cell_type": "raw",
   "metadata": {},
   "source": [
    "## Multiple decorator process in reverse order\n",
    "\n",
    "@d1\n",
    "@d2\n",
    "def some_function():\n",
    "    \"Here d2 will be executed and reult will be given to d1\""
   ]
  },
  {
   "cell_type": "code",
   "execution_count": null,
   "metadata": {
    "collapsed": true
   },
   "outputs": [],
   "source": []
  },
  {
   "cell_type": "code",
   "execution_count": 44,
   "metadata": {
    "collapsed": true
   },
   "outputs": [],
   "source": [
    "#functools.wraps()\n",
    "\n",
    "###properly update metadata on wrapped functions"
   ]
  },
  {
   "cell_type": "code",
   "execution_count": null,
   "metadata": {
    "collapsed": true
   },
   "outputs": [],
   "source": []
  },
  {
   "cell_type": "markdown",
   "metadata": {},
   "source": [
    "__init__ would be treated as Constructor where as __call__ methods can be called with objects any number of times. Both __init__ and __call__ functions do take default arguments.\n"
   ]
  },
  {
   "cell_type": "code",
   "execution_count": null,
   "metadata": {
    "collapsed": true
   },
   "outputs": [],
   "source": []
  },
  {
   "cell_type": "code",
   "execution_count": 52,
   "metadata": {
    "collapsed": false
   },
   "outputs": [
    {
     "name": "stdout",
     "output_type": "stream",
     "text": [
      "List Comprahension :  [0, 2, 4, 6, 8]\n",
      "Dict Comprehension : {0: 0, 1: 2, 2: 4, 3: 6, 4: 8}\n",
      "Set Comprehension : set([0, 1, 2, 3, 4])\n",
      "Generator Comprehension : <generator object <genexpr> at 0x1b1beb0>\n"
     ]
    }
   ],
   "source": [
    "#Comprehension\n",
    "# short hand syntax for creating collections and iterables\n",
    "\n",
    "l = [i*2 for i in range(0,5)]\n",
    "\n",
    "print \"List Comprahension : \",l\n",
    "\n",
    "d = {i:i*2 for i in range(5)}\n",
    "\n",
    "print \"Dict Comprehension :\",d\n",
    "\n",
    "s = {i for i in range(5)}\n",
    "\n",
    "print \"Set Comprehension :\",s\n",
    "\n",
    "g = (i for i in range(5))\n",
    "\n",
    "print \"Generator Comprehension :\",g #list(g)"
   ]
  },
  {
   "cell_type": "markdown",
   "metadata": {},
   "source": [
    "Comprehension can use many input sequence as well as multiple if clause\n"
   ]
  },
  {
   "cell_type": "code",
   "execution_count": 54,
   "metadata": {
    "collapsed": false
   },
   "outputs": [
    {
     "data": {
      "text/plain": [
       "[(0, 0),\n",
       " (0, 1),\n",
       " (0, 2),\n",
       " (1, 0),\n",
       " (1, 1),\n",
       " (1, 2),\n",
       " (2, 0),\n",
       " (2, 1),\n",
       " (2, 2),\n",
       " (3, 0),\n",
       " (3, 1),\n",
       " (3, 2),\n",
       " (4, 0),\n",
       " (4, 1),\n",
       " (4, 2)]"
      ]
     },
     "execution_count": 54,
     "metadata": {},
     "output_type": "execute_result"
    }
   ],
   "source": [
    "[(x,y) for x in range(5) for y in range(3)]"
   ]
  },
  {
   "cell_type": "code",
   "execution_count": 55,
   "metadata": {
    "collapsed": false
   },
   "outputs": [
    {
     "data": {
      "text/plain": [
       "[[],\n",
       " [0],\n",
       " [0, 3],\n",
       " [0, 3, 6],\n",
       " [0, 3, 6, 9],\n",
       " [0, 3, 6, 9, 12],\n",
       " [0, 3, 6, 9, 12, 15],\n",
       " [0, 3, 6, 9, 12, 15, 18],\n",
       " [0, 3, 6, 9, 12, 15, 18, 21],\n",
       " [0, 3, 6, 9, 12, 15, 18, 21, 24]]"
      ]
     },
     "execution_count": 55,
     "metadata": {},
     "output_type": "execute_result"
    }
   ],
   "source": [
    "## Nested Comprehension\n",
    "vals = [[y*3 for y in range(x)] for x in range(10)]\n",
    "vals"
   ]
  },
  {
   "cell_type": "code",
   "execution_count": null,
   "metadata": {
    "collapsed": true
   },
   "outputs": [],
   "source": []
  },
  {
   "cell_type": "code",
   "execution_count": 57,
   "metadata": {
    "collapsed": false
   },
   "outputs": [
    {
     "data": {
      "text/plain": [
       "[84, 104, 105, 115, 32, 105, 115, 32, 115, 112, 97, 114, 116, 97, 110]"
      ]
     },
     "execution_count": 57,
     "metadata": {},
     "output_type": "execute_result"
    }
   ],
   "source": [
    "# iteration and iterables + building block functions\n",
    "# Functional style python\n",
    "\n",
    "# Map - apply a function to every element in sequence to produce new sequence\n",
    "# Map is Lazy it only produces values as they are needed\n",
    "map(ord,\"This is spartan\") #ord function is used to calculate char value of each element"
   ]
  },
  {
   "cell_type": "code",
   "execution_count": 58,
   "metadata": {
    "collapsed": true
   },
   "outputs": [],
   "source": [
    "# map can accept as many number of sequence\n",
    " "
   ]
  },
  {
   "cell_type": "code",
   "execution_count": null,
   "metadata": {
    "collapsed": true
   },
   "outputs": [],
   "source": []
  },
  {
   "cell_type": "code",
   "execution_count": 60,
   "metadata": {
    "collapsed": false
   },
   "outputs": [
    {
     "data": {
      "text/plain": [
       "[1, 2, 6, 1]"
      ]
     },
     "execution_count": 60,
     "metadata": {},
     "output_type": "execute_result"
    }
   ],
   "source": [
    "# Filter\n",
    "# apply a function to each element in a sequence, constructing a new sequence \n",
    "#with the elements for which the function return th True\n",
    "positives = filter(lambda x:x>0,[1,2,-5,6,-8,1]) \n",
    "positives"
   ]
  },
  {
   "cell_type": "code",
   "execution_count": null,
   "metadata": {
    "collapsed": true
   },
   "outputs": [],
   "source": []
  },
  {
   "cell_type": "code",
   "execution_count": 63,
   "metadata": {
    "collapsed": false
   },
   "outputs": [
    {
     "data": {
      "text/plain": [
       "6"
      ]
     },
     "execution_count": 63,
     "metadata": {},
     "output_type": "execute_result"
    }
   ],
   "source": [
    "#Reduce\n",
    "#repetedly apply a function to elements of a sequence, reducing them to a single value\n",
    "import operator\n",
    "reduce(operator.add,[1,2,3])"
   ]
  },
  {
   "cell_type": "code",
   "execution_count": null,
   "metadata": {
    "collapsed": true
   },
   "outputs": [],
   "source": []
  },
  {
   "cell_type": "code",
   "execution_count": 8,
   "metadata": {
    "collapsed": true
   },
   "outputs": [],
   "source": [
    "#Iterator protocol\n",
    "\n",
    "# iter()  -- Create an iterator\n",
    "\n",
    "# next() -- Get next element in sequence\n",
    "\n",
    "# StopIteration --- signal the end of the sequence\n",
    "\n",
    "#Iterable an objects which implements __iter__() method\n",
    "\n",
    "# Iterator is an object which implements iterable protocol and \n",
    "\n",
    "class ExampleIterator:\n",
    "    def __init__(self):\n",
    "        self.index = 0\n",
    "        self.data = [1,2,3]\n",
    "        \n",
    "    def __iter__(self):\n",
    "        return self\n",
    "    \n",
    "    def next(self): #In python3 its __next__\n",
    "        if self.index >= len(self.data):\n",
    "            raise StopIteration()\n",
    "            \n",
    "        rslt = self.data[self.index]\n",
    "        self.index += 1\n",
    "        return rslt\n",
    "    "
   ]
  },
  {
   "cell_type": "code",
   "execution_count": 9,
   "metadata": {
    "collapsed": false
   },
   "outputs": [
    {
     "data": {
      "text/plain": [
       "1"
      ]
     },
     "execution_count": 9,
     "metadata": {},
     "output_type": "execute_result"
    }
   ],
   "source": [
    "i = ExampleIterator()\n",
    "next(i)"
   ]
  },
  {
   "cell_type": "code",
   "execution_count": 10,
   "metadata": {
    "collapsed": false
   },
   "outputs": [
    {
     "data": {
      "text/plain": [
       "2"
      ]
     },
     "execution_count": 10,
     "metadata": {},
     "output_type": "execute_result"
    }
   ],
   "source": [
    "next(i)"
   ]
  },
  {
   "cell_type": "code",
   "execution_count": 12,
   "metadata": {
    "collapsed": false
   },
   "outputs": [
    {
     "ename": "StopIteration",
     "evalue": "",
     "output_type": "error",
     "traceback": [
      "\u001b[1;31m---------------------------------------------------------------------------\u001b[0m",
      "\u001b[1;31mStopIteration\u001b[0m                             Traceback (most recent call last)",
      "\u001b[1;32m<ipython-input-12-bed2471d02c1>\u001b[0m in \u001b[0;36m<module>\u001b[1;34m()\u001b[0m\n\u001b[1;32m----> 1\u001b[1;33m \u001b[0mnext\u001b[0m\u001b[1;33m(\u001b[0m\u001b[0mi\u001b[0m\u001b[1;33m)\u001b[0m\u001b[1;33m\u001b[0m\u001b[0m\n\u001b[0m",
      "\u001b[1;31mStopIteration\u001b[0m: "
     ]
    }
   ],
   "source": [
    "next(i)"
   ]
  },
  {
   "cell_type": "code",
   "execution_count": null,
   "metadata": {
    "collapsed": true
   },
   "outputs": [],
   "source": []
  },
  {
   "cell_type": "raw",
   "metadata": {},
   "source": [
    "## Single inheritance\n",
    "#class Subclass(BaseClass):\n",
    "    \n",
    "\"\"\"\n",
    "SubClass will want to initialize the base class\n",
    "\n",
    "Base class initializer will only be called automatically if subclass initializer is undefined\n",
    "\"\"\""
   ]
  },
  {
   "cell_type": "code",
   "execution_count": 14,
   "metadata": {
    "collapsed": false
   },
   "outputs": [
    {
     "name": "stdout",
     "output_type": "stream",
     "text": [
      "Base Initializer\n"
     ]
    }
   ],
   "source": [
    "class Base:\n",
    "    def __init__(self):\n",
    "        print \"Base Initializer\"\n",
    "    \n",
    "    def f(self):\n",
    "        print \"Base.f()\"\n",
    "        \n",
    "class Sub(Base):\n",
    "    pass\n",
    "\n",
    "s = Sub()"
   ]
  },
  {
   "cell_type": "code",
   "execution_count": 15,
   "metadata": {
    "collapsed": false
   },
   "outputs": [
    {
     "name": "stdout",
     "output_type": "stream",
     "text": [
      "Base.f()\n"
     ]
    }
   ],
   "source": [
    "s.f()"
   ]
  },
  {
   "cell_type": "code",
   "execution_count": 17,
   "metadata": {
    "collapsed": false
   },
   "outputs": [
    {
     "name": "stdout",
     "output_type": "stream",
     "text": [
      "Base Initializer\n",
      "Sub.f()\n"
     ]
    }
   ],
   "source": [
    "# Overiding method\n",
    "\n",
    "class Base:\n",
    "    def __init__(self):\n",
    "        print \"Base Initializer\"\n",
    "    \n",
    "    def f(self):\n",
    "        print \"Base.f()\"\n",
    "        \n",
    "class Sub(Base):\n",
    "    def f(self):\n",
    "        print \"Sub.f()\"\n",
    "\n",
    "s = Sub()\n",
    "s.f()"
   ]
  },
  {
   "cell_type": "code",
   "execution_count": 18,
   "metadata": {
    "collapsed": false
   },
   "outputs": [
    {
     "name": "stdout",
     "output_type": "stream",
     "text": [
      "Sub class initializer\n"
     ]
    }
   ],
   "source": [
    "##Lets have init of Base Class\n",
    "\n",
    "class Base:\n",
    "    def __init__(self):\n",
    "        print \"Base Initializer\"\n",
    "    \n",
    "    def f(self):\n",
    "        print \"Base.f()\"\n",
    "        \n",
    "class Sub(Base):\n",
    "    def __init__(self):\n",
    "        print \"Sub class initializer\"\n",
    "    def f(self):\n",
    "        print \"Sub.f()\"\n",
    "\n",
    "s = Sub()"
   ]
  },
  {
   "cell_type": "raw",
   "metadata": {},
   "source": [
    "\n",
    "Other language automatically call base class initializers\n",
    "\n",
    "Python treat __init__() like any other method\n",
    "\n",
    "Base class __init__() is not called if overridden\n",
    "\n",
    "Use super() to call base class __init__()\n"
   ]
  },
  {
   "cell_type": "code",
   "execution_count": 19,
   "metadata": {
    "collapsed": false
   },
   "outputs": [
    {
     "data": {
      "text/plain": [
       "True"
      ]
     },
     "execution_count": 19,
     "metadata": {},
     "output_type": "execute_result"
    }
   ],
   "source": [
    "# isinstance --> determined if the object is of specified type\n",
    "isinstance(3,int)"
   ]
  },
  {
   "cell_type": "code",
   "execution_count": 20,
   "metadata": {
    "collapsed": false
   },
   "outputs": [
    {
     "data": {
      "text/plain": [
       "False"
      ]
     },
     "execution_count": 20,
     "metadata": {},
     "output_type": "execute_result"
    }
   ],
   "source": [
    "isinstance('Hello',int)"
   ]
  },
  {
   "cell_type": "code",
   "execution_count": 21,
   "metadata": {
    "collapsed": false
   },
   "outputs": [
    {
     "data": {
      "text/plain": [
       "True"
      ]
     },
     "execution_count": 21,
     "metadata": {},
     "output_type": "execute_result"
    }
   ],
   "source": [
    "x = []\n",
    "isinstance(x,(list,dict,set))"
   ]
  },
  {
   "cell_type": "code",
   "execution_count": 22,
   "metadata": {
    "collapsed": false
   },
   "outputs": [
    {
     "data": {
      "text/plain": [
       "True"
      ]
     },
     "execution_count": 22,
     "metadata": {},
     "output_type": "execute_result"
    }
   ],
   "source": [
    "# issubclass --> determines if one class is subclass of other\n",
    "\n",
    "issubclass(Sub,Base)"
   ]
  },
  {
   "cell_type": "code",
   "execution_count": 23,
   "metadata": {
    "collapsed": false
   },
   "outputs": [
    {
     "data": {
      "text/plain": [
       "False"
      ]
     },
     "execution_count": 23,
     "metadata": {},
     "output_type": "execute_result"
    }
   ],
   "source": [
    "issubclass(Base,Sub)"
   ]
  },
  {
   "cell_type": "code",
   "execution_count": 24,
   "metadata": {
    "collapsed": true
   },
   "outputs": [],
   "source": [
    "## Defining a class with more than one base\n",
    "\n",
    "# class Sub(base1,base2..)"
   ]
  },
  {
   "cell_type": "raw",
   "metadata": {},
   "source": [
    "Sub class inherit method of all base class\n",
    "Without conflict name resolve in obvious way\n",
    "Method Resolution Order(MRO) determines name lookup in all cases"
   ]
  },
  {
   "cell_type": "code",
   "execution_count": 1,
   "metadata": {
    "collapsed": true
   },
   "outputs": [],
   "source": [
    "# __bases__ is a tuple of base classes\n",
    "\n",
    "# MRO --> Ordering that determines method name lookup\n",
    "\n",
    "#super () returns proxy object that routes method calls\n",
    "\n",
    "# Two types of super proxies are\n",
    "\n",
    "# 1. Bound Proxy : Bound to specific class and instance\n",
    "# 2. Unbound Proxy : Not bound to class and instance."
   ]
  },
  {
   "cell_type": "code",
   "execution_count": null,
   "metadata": {
    "collapsed": true
   },
   "outputs": [],
   "source": []
  },
  {
   "cell_type": "code",
   "execution_count": 2,
   "metadata": {
    "collapsed": false
   },
   "outputs": [
    {
     "data": {
      "text/plain": [
       "'\\nProtocols :\\nContainer,Sized,Iterable,Sequence,Set,Mutable Set,Mutable Sequence,Mutable Mapping\\n\\nMost collections implement container,Sized and iterable protocol\\n'"
      ]
     },
     "execution_count": 2,
     "metadata": {},
     "output_type": "execute_result"
    }
   ],
   "source": [
    "# Collections\n",
    "\"\"\"\n",
    "Protocols :\n",
    "Container,Sized,Iterable,Sequence,Set,Mutable Set,Mutable Sequence,Mutable Mapping\n",
    "\n",
    "Most collections implement container,Sized and iterable protocol\n",
    "\"\"\""
   ]
  },
  {
   "cell_type": "code",
   "execution_count": 3,
   "metadata": {
    "collapsed": true
   },
   "outputs": [],
   "source": [
    "# SortedSet -- A collection which is sized,iterable sequence container of a set of distinct item constructible from iterable\n",
    "\n"
   ]
  },
  {
   "cell_type": "code",
   "execution_count": null,
   "metadata": {
    "collapsed": true
   },
   "outputs": [],
   "source": []
  },
  {
   "cell_type": "code",
   "execution_count": null,
   "metadata": {
    "collapsed": true
   },
   "outputs": [],
   "source": [
    "# Exceptions\n",
    "\n",
    "# Catching all exception is bad idea. It is better to catch only relevant exception\n",
    "\n",
    "# Defining a new Exception\n",
    "# Create a class with base class Exception\n",
    "\n",
    "# Chaining exception -- During process of one exception another exception occurs\n",
    "# 1.Implicit chaining   \n",
    "# 2.Explicit chaning\n",
    "\n",
    "\n",
    "# Tracebacks \n"
   ]
  }
 ],
 "metadata": {
  "kernelspec": {
   "display_name": "Python 2",
   "language": "python",
   "name": "python2"
  },
  "language_info": {
   "codemirror_mode": {
    "name": "ipython",
    "version": 2
   },
   "file_extension": ".py",
   "mimetype": "text/x-python",
   "name": "python",
   "nbconvert_exporter": "python",
   "pygments_lexer": "ipython2",
   "version": "2.7.3"
  }
 },
 "nbformat": 4,
 "nbformat_minor": 0
}
