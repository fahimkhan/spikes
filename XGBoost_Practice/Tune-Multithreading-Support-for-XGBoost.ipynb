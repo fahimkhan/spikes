{
 "cells": [
  {
   "cell_type": "markdown",
   "metadata": {},
   "source": [
    "# Tune Multithreading Support for XGBoost\n"
   ]
  },
  {
   "cell_type": "markdown",
   "metadata": {},
   "source": [
    "### Impact of the Number of Threads\n"
   ]
  },
  {
   "cell_type": "code",
   "execution_count": 2,
   "metadata": {
    "collapsed": false
   },
   "outputs": [
    {
     "name": "stdout",
     "output_type": "stream",
     "text": [
      "(1, 150.69700717926025)\n",
      "(2, 90.86278009414673)\n",
      "(3, 90.99121499061584)\n",
      "(4, 93.34687280654907)\n"
     ]
    }
   ],
   "source": [
    "# Otto, tune number of threads\n",
    "from pandas import read_csv\n",
    "from xgboost import XGBClassifier\n",
    "from sklearn.preprocessing import LabelEncoder\n",
    "import time\n",
    "from matplotlib import pyplot\n",
    "\n",
    "# load data\n",
    "data = read_csv('train.csv')\n",
    "dataset = data.values\n",
    "\n",
    "# split data into X and y\n",
    "X = dataset[:,0:94]\n",
    "y = dataset[:,94]\n",
    "\n",
    "# encode string class values as integers\n",
    "label_encoded_y = LabelEncoder().fit_transform(y)\n",
    "\n",
    "# evaluate the effect of the number of threads\n",
    "results = []\n",
    "num_threads = [1, 2, 3, 4]\n",
    "\n",
    "for n in num_threads:\n",
    "    start = time.time()\n",
    "    model = XGBClassifier(nthread=n)\n",
    "    model.fit(X, label_encoded_y)\n",
    "    elapsed = time.time() - start\n",
    "    print(n, elapsed)\n",
    "    results.append(elapsed)\n",
    "    \n",
    "# plot results\n",
    "pyplot.plot(num_threads, results)\n",
    "pyplot.ylabel('Speed (seconds)')\n",
    "pyplot.xlabel('Number of Threads')\n",
    "pyplot.title('XGBoost Training Speed vs Number of Threads')\n",
    "pyplot.show()\n",
    "\n",
    "\n"
   ]
  },
  {
   "cell_type": "markdown",
   "metadata": {},
   "source": [
    "### Parallelism When Cross Validating XGBoost Models\n"
   ]
  },
  {
   "cell_type": "code",
   "execution_count": null,
   "metadata": {
    "collapsed": true
   },
   "outputs": [],
   "source": [
    "# Otto, parallel cross validation\n",
    "from pandas import read_csv\n",
    "from xgboost import XGBClassifier\n",
    "from sklearn.cross_validation import StratifiedKFold\n",
    "from sklearn.cross_validation import cross_val_score\n",
    "from sklearn.preprocessing import LabelEncoder\n",
    "import time\n",
    "\n",
    "# load data\n",
    "data = read_csv('train.csv')\n",
    "dataset = data.values\n",
    "\n",
    "# split data into X and y\n",
    "X = dataset[:,0:94]\n",
    "y = dataset[:,94]\n",
    "\n",
    "# encode string class values as integers\n",
    "label_encoded_y = LabelEncoder().fit_transform(y)\n",
    "\n",
    "# prepare cross validation\n",
    "kfold = StratifiedKFold(label_encoded_y, n_folds=10, shuffle=True, random_state=7)\n",
    "\n",
    "# Single Thread XGBoost, Parallel Thread CV\n",
    "start = time.time()\n",
    "model = XGBClassifier(nthread=1)\n",
    "results = cross_val_score(model, X, label_encoded_y, cv=kfold, scoring='log_loss',n_jobs=-1)\n",
    "elapsed = time.time() - start\n",
    "print(\"Single Thread XGBoost, Parallel Thread CV: %f\" % (elapsed))\n",
    "\n",
    "# Parallel Thread XGBoost, Single Thread CV\n",
    "start = time.time()\n",
    "model = XGBClassifier(nthread=-1)\n",
    "results = cross_val_score(model, X, label_encoded_y, cv=kfold, scoring='log_loss', n_jobs=1)\n",
    "elapsed = time.time() - start\n",
    "print(\"Parallel Thread XGBoost, Single Thread CV: %f\" % (elapsed))\n",
    "# Parallel Thread XGBoost and CV\n",
    "start = time.time()\n",
    "model = XGBClassifier(nthread=-1)\n",
    "results = cross_val_score(model, X, label_encoded_y, cv=kfold, scoring='log_loss',n_jobs=-1)\n",
    "elapsed = time.time() - start\n",
    "print(\"Parallel Thread XGBoost and CV: %f\" % (elapsed))\n",
    "\n"
   ]
  },
  {
   "cell_type": "code",
   "execution_count": null,
   "metadata": {
    "collapsed": true
   },
   "outputs": [],
   "source": []
  }
 ],
 "metadata": {
  "kernelspec": {
   "display_name": "Python 2",
   "language": "python",
   "name": "python2"
  },
  "language_info": {
   "codemirror_mode": {
    "name": "ipython",
    "version": 2
   },
   "file_extension": ".py",
   "mimetype": "text/x-python",
   "name": "python",
   "nbconvert_exporter": "python",
   "pygments_lexer": "ipython2",
   "version": "2.7.3"
  }
 },
 "nbformat": 4,
 "nbformat_minor": 0
}
