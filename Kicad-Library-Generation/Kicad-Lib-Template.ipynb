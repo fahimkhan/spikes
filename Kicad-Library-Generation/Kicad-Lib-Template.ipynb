{
 "cells": [
  {
   "cell_type": "code",
   "execution_count": 1,
   "metadata": {
    "collapsed": true
   },
   "outputs": [],
   "source": [
    "import json"
   ]
  },
  {
   "cell_type": "code",
   "execution_count": 2,
   "metadata": {
    "collapsed": true
   },
   "outputs": [],
   "source": [
    "kicad_lib_template = '''\n",
    "DEF test_compo U 0 40 Y Y 1 F N\n",
    "F0 \"U\" 2850 1800 60 H V C CNN\n",
    "F1 \"test_compo\" 2850 1950 60 H V C CNN\n",
    "F2 \"\" 2850 1950 60 H V C CNN\n",
    "F3 \"\" 2850 1950 60 H V C CNN\n",
    "DRAW\n",
    "S 2550 2200 3150 1650 0 1 0 N\n",
    "ENDDRAW\n",
    "ENDDEF\n",
    "'''"
   ]
  },
  {
   "cell_type": "code",
   "execution_count": 46,
   "metadata": {
    "collapsed": false
   },
   "outputs": [],
   "source": [
    "kicad_lib_template = \"\"\"\n",
    "{   \"start_def\":\"DEF comp_name U 0 40 Y Y 1 F N\",\n",
    "    \"U_field\":\"F0 U 2850 1800 60 H V C CNN\",\n",
    "    \"comp_name_field\":\"F1 comp_name 2850 1950 60 H V C CNN\",\n",
    "    \"blank_field\":[\"F2 blank_quotes 2850 1950 60 H V C CNN\",\"F3 blank_quotes 2850 1950 60 H V C CNN\"],\n",
    "    \"start_draw\":\"DRAW\",\n",
    "    \"draw_pos\":\"S 2550 2200 3150 1650 0 1 0 N\",\n",
    "    \"input_port\":\"X in 1 2350 1900 200 R 50 50 1 1 I\"\n",
    "    \"output_port\":\"X out 2 3350 1900 200 L 50 50 1 1 O\"\n",
    "    \"end_draw\":\"ENDDRAW\",\n",
    "    \"end_def\":\"ENDDEF\"\n",
    "}\n",
    "\"\"\"\n"
   ]
  },
  {
   "cell_type": "code",
   "execution_count": 47,
   "metadata": {
    "collapsed": false
   },
   "outputs": [],
   "source": [
    "parsed_data = json.loads(kicad_lib_template)"
   ]
  },
  {
   "cell_type": "code",
   "execution_count": 48,
   "metadata": {
    "collapsed": false
   },
   "outputs": [
    {
     "name": "stdout",
     "output_type": "stream",
     "text": [
      "{u'end_draw': u'ENDDRAW', u'end_def': u'ENDDEF', u'draw_pos': u'S 2550 2200 3150 1650 0 1 0 N', u'start_draw': u'DRAW', u'start_def': u'DEF comp_name U 0 40 Y Y 1 F N', u'U_field': u'F0 U 2850 1800 60 H V C CNN', u'blank_field': [u'F2 blank_quotes 2850 1950 60 H V C CNN', u'F3 blank_quotes 2850 1950 60 H V C CNN'], u'comp_name_field': u'F1 comp_name 2850 1950 60 H V C CNN'}\n"
     ]
    }
   ],
   "source": [
    "print parsed_data"
   ]
  },
  {
   "cell_type": "code",
   "execution_count": 11,
   "metadata": {
    "collapsed": false
   },
   "outputs": [
    {
     "name": "stdout",
     "output_type": "stream",
     "text": [
      "---------> test_compo\n",
      "---------> test_compo\n",
      "---------> test_compo\n",
      "---------> test_compo\n",
      "---------> test_compo\n",
      "---------> test_compo\n",
      "['1. After creating Block.\\n', '\\n', '# Start test_compo\\n', '# End test_compo\\n', '\\n', '2. After Moving the Block.\\n', '\\n', 'EESchema-LIBRARY Version 2.3\\n', '#encoding utf-8\\n', '#\\n', '# test_compo\\n', '#\\n', '#\\n', '#End Library\\n', '\\n', '3. After adding in & out pins.\\n', '\\n', 'EESchema-LIBRARY Version 2.3\\n', '#encoding utf-8\\n', '#\\n', '# test_compo\\n', '#\\n', '#\\n', '#End Library\\n', '\\n', '4. After increasing size of the block.\\n', '\\n', 'EESchema-LIBRARY Version 2.3\\n', '#encoding utf-8\\n', '#\\n', '# test_compo\\n', '#\\n', '#\\n', '#End Library\\n', '\\n', '5. After adding in2 pin to block.\\n', '\\n', 'EESchema-LIBRARY Version 2.3\\n', '#encoding utf-8\\n', '#\\n', '# test_compo\\n', '#\\n', '#\\n', '#End Library\\n', '\\n', '6. After adding out2 pin.\\n', '\\n', 'EESchema-LIBRARY Version 2.3\\n', '#encoding utf-8\\n', '#\\n', '# test_compo\\n', '#\\n', '#\\n', '#End Library\\n']\n"
     ]
    }
   ],
   "source": [
    "#Reading certain portion of file\n",
    "\n",
    "f = open('library_details')\n",
    "lines = f.readlines()\n",
    "f.close()\n",
    "\n",
    "output = []\n",
    "line_reading_flag = False #Used to check the content within string\n",
    "\n",
    "for line in lines:\n",
    "    if line.startswith(\"DEF\"):\n",
    "        print \"--------->\",line.split()[1]\n",
    "        line_reading_flag = True\n",
    "    if not line_reading_flag:\n",
    "        output.append(line)\n",
    "    if line.startswith(\"ENDDEF\"):\n",
    "        line_reading_flag = False\n",
    "        \n",
    "print output\n",
    "    "
   ]
  },
  {
   "cell_type": "code",
   "execution_count": null,
   "metadata": {
    "collapsed": true
   },
   "outputs": [],
   "source": []
  }
 ],
 "metadata": {
  "kernelspec": {
   "display_name": "Python 2",
   "language": "python",
   "name": "python2"
  },
  "language_info": {
   "codemirror_mode": {
    "name": "ipython",
    "version": 2
   },
   "file_extension": ".py",
   "mimetype": "text/x-python",
   "name": "python",
   "nbconvert_exporter": "python",
   "pygments_lexer": "ipython2",
   "version": "2.7.3"
  }
 },
 "nbformat": 4,
 "nbformat_minor": 0
}
